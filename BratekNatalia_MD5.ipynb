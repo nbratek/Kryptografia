{
 "cells": [
  {
   "cell_type": "markdown",
   "metadata": {
    "id": "RiM0IfE5vcKE"
   },
   "source": [
    "# Funkcje skrótu\n",
    "\n",
    "## Wstęp\n",
    "\n",
    "W tym laboratorium zapoznamy się z algorytmem funkcji skrótu MD5, czyli jednym z klasycznych przykładów funkcji mieszających (hashujących), które były powszechnie stosowane w kryptografii, ochronie danych, oraz weryfikacji integralności. Funkcja MD5 generuje 128-bitowy skrót (hash) z dowolnego wejścia tekstowego, zapewniając, że wynik jest zawsze tej samej długości, niezależnie od wielkości danych wejściowych.\n",
    "\n",
    "Funkcje skrótu znajdują szerokie zastosowanie w informatyce, m.in.:\n",
    "- przy weryfikacji integralności danych,\n",
    "- w przechowywaniu haseł (choć obecnie MD5 nie jest zalecany do tego celu z powodu problemów z bezpieczeństwem),\n",
    "- w algorytmach wykrywających duplikaty, takich jak te wykorzystywane w systemach zarządzania danymi.\n",
    "\n",
    "Algorytm MD5 działa na zasadzie iteracyjnego przetwarzania danych wejściowych podzielonych na 512-bitowe bloki, stosując złożone operacje logiczne i przesunięcia bitowe. Pomimo swojej popularności, MD5 obecnie uznawany jest za podatny na ataki kolizyjne, co oznacza, że istnieją efektywne metody pozwalające znaleźć dwa różne wejścia dające ten sam wynik hashujący.\n",
    "\n",
    "## Cel Laboratorium\n",
    "\n",
    "Celem tego laboratorium jest:\n",
    "1. Poznanie szczegółów teoretycznych algorytmu MD5.\n",
    "2. Implementacja uproszczonej wersji funkcji MD5 w Pythonie i analiza jej działania.\n",
    "3. Próba złamania MD5.\n",
    "\n",
    "## Kluczowe Pojęcia\n",
    "\n",
    "- **Funkcja skrótu**: Funkcja przekształcająca dowolnie długi ciąg danych wejściowych w wynik o ustalonej długości (skrót). Funkcja skrótu jest niemożliwa do odwrócenia i powinna być odporna na kolizje.\n",
    "- **Kolizja**: Przypadek, w którym dwa różne dane wejściowe generują ten sam skrót, co stanowi problem dla funkcji skrótu stosowanych w kryptografii.\n",
    "- **Pseudolosowe mieszanie**: Proces generowania wartości haszujących oparty na bitowych operacjach logicznych, które wprowadzają złożoność i nieprzewidywalność.\n",
    "\n",
    "> **Notatka:** Chociaż MD5 jest łatwy do zrozumienia i implementacji, nie jest bezpieczny do ochrony haseł ani przechowywania danych wrażliwych. Dlatego będziemy go analizować tylko w celach edukacyjnych.\n"
   ]
  },
  {
   "cell_type": "markdown",
   "metadata": {
    "id": "Ka8lTCw0ygjD"
   },
   "source": [
    "# Algorytm MD5\n",
    "\n",
    "## Krok 1 - inicjalizacja stałych"
   ]
  },
  {
   "cell_type": "code",
   "execution_count": 36,
   "metadata": {
    "ExecuteTime": {
     "end_time": "2024-11-16T21:00:10.653706Z",
     "start_time": "2024-11-16T21:00:10.649286Z"
    },
    "id": "5as614WsyxaC"
   },
   "outputs": [],
   "source": [
    "import math\n",
    "# Stałe inicjalizacyjne dla MD5\n",
    "A0, B0, C0, D0 = 0x67452301, 0xEFCDAB89, 0x98BADCFE, 0x10325476\n",
    "\n",
    "# Stałe przesunięcia bitowe dla każdej rundy\n",
    "shift_amounts = [\n",
    "    7, 12, 17, 22,  7, 12, 17, 22,  7, 12, 17, 22,  7, 12, 17, 22,\n",
    "    5,  9, 14, 20,  5,  9, 14, 20,  5,  9, 14, 20,  5,  9, 14, 20,\n",
    "    4, 11, 16, 23,  4, 11, 16, 23,  4, 11, 16, 23,  4, 11, 16, 23,\n",
    "    6, 10, 15, 21,  6, 10, 15, 21,  6, 10, 15, 21,  6, 10, 15, 21\n",
    "]\n",
    "\n",
    "# Tablica stałych sinusowych T\n",
    "T = [int(4294967296 * abs(math.sin(i + 1))) & 0xFFFFFFFF for i in range(64)]\n"
   ]
  },
  {
   "cell_type": "markdown",
   "metadata": {
    "id": "VEH7Q9elzMtS"
   },
   "source": [
    "## Krok 2 - funkcje pomocnicze"
   ]
  },
  {
   "cell_type": "code",
   "execution_count": 37,
   "metadata": {
    "ExecuteTime": {
     "end_time": "2024-11-16T21:00:12.147304Z",
     "start_time": "2024-11-16T21:00:12.144063Z"
    },
    "id": "efu3X9TqzQEk"
   },
   "outputs": [],
   "source": [
    "# Funkcje pomocnicze\n",
    "# Napisz funkcję rotującą binarnie w lewo słowo 32 bitowe\n",
    "def left_rotate(x, amount):\n",
    "    x = x & 0xFFFFFFFF  \n",
    "    return ((x << amount) | (x >> (32 - amount))) \n",
    "\n",
    "# Definicje funkcji F, G, H, I używanych w algorytmie\n",
    "def F(x, y, z):\n",
    "    return (x & y) | (~x & z)\n",
    "\n",
    "def G(x, y, z):\n",
    "    return (x & z) | (y & ~z)\n",
    "\n",
    "def H(x, y, z):\n",
    "    return x ^ y ^ z\n",
    "\n",
    "def I(x, y, z):\n",
    "    return y ^ (x | ~z)"
   ]
  },
  {
   "cell_type": "markdown",
   "metadata": {
    "id": "v95qO4rVzYLv"
   },
   "source": [
    "## Krok 3 - padding"
   ]
  },
  {
   "cell_type": "code",
   "execution_count": 38,
   "metadata": {
    "ExecuteTime": {
     "end_time": "2024-11-16T21:00:14.607473Z",
     "start_time": "2024-11-16T21:00:14.603674Z"
    },
    "id": "V1FNjXrIzb3h"
   },
   "outputs": [],
   "source": [
    "\n",
    "def pad_message(message):\n",
    "    messageBytes = bytearray(message, 'utf-8') # Konwertujemy wiadomość na bajty\n",
    "    # Oblicz liczbę bitów oryginalnej wiadomości i przypisz do orig_len_in_bits\n",
    "    orig_len_in_bits = len(messageBytes) * 8\n",
    "    # Dołącz do messageBytes wartość 0x80\n",
    "    messageBytes.append(0x80)\n",
    "    \n",
    "    # Dodawaj bajty 0x00 do messageBytes dopóki długość messageBytes modulo 64 jest różne od 56\n",
    "    while len(messageBytes) % 64 != 56:\n",
    "        messageBytes.append(0x00)\n",
    "        \n",
    "    # Dołącz do tablicy messageBytes długość bitową orig_len_in_bits na 8 bajtach i w systemie Little Endian. Pomocna będzie metoda to_bytes.\n",
    "    messageBytes += orig_len_in_bits.to_bytes(8, byteorder='little')\n",
    "    return messageBytes"
   ]
  },
  {
   "cell_type": "markdown",
   "metadata": {
    "id": "F5ppmtar1rBM"
   },
   "source": [
    "## Krok 4 - główna pętla"
   ]
  },
  {
   "cell_type": "code",
   "execution_count": 48,
   "metadata": {
    "ExecuteTime": {
     "end_time": "2024-11-16T21:00:19.164522Z",
     "start_time": "2024-11-16T21:00:16.028004Z"
    },
    "colab": {
     "base_uri": "https://localhost:8080/"
    },
    "id": "WiCpUBD910LO",
    "outputId": "0f2e19df-4dc0-4e1e-ffb7-fd8c2e176a90"
   },
   "outputs": [
    {
     "name": "stdout",
     "output_type": "stream",
     "text": [
      "0cc175b9c0f1b6a832c399e269772661\n"
     ]
    }
   ],
   "source": [
    "def MD5(messageText):\n",
    "  # wykonaj padding wiadomości\n",
    "  message = pad_message(messageText)\n",
    "  A, B, C, D = A0, B0, C0, D0\n",
    "  for i in range(0, len(message), 64):\n",
    "    # Blok 512-bitowy podzielony na szesnaście 32-bitowych słów:\n",
    "    M = [int.from_bytes(message[i + j:i + j + 4], byteorder='little') for j in range(0, 64, 4)] # Pobierz 16 razy po 4 bajty (po kolei), przekonwertuj każdą czwórkę na int w systemie Little Endian. M powinno w każdej iteracji mieć 4 liczby typu int. Pomocna może być metoda: int.from_bytes\n",
    "\n",
    "    # Kopie bieżących wartości rejestrów\n",
    "    AA, BB, CC, DD = A, B, C, D\n",
    "\n",
    "    # 64 kroki, 4 rundy\n",
    "    for j in range(64):\n",
    "        if 0 <= j <= 15:\n",
    "            # Przypisz do f = F(B, C, D), a do g przypisz j\n",
    "            f = F(B, C, D)\n",
    "            g = j\n",
    "        elif 16 <= j <= 31:\n",
    "            # Przypisz do f = G(B, C, D), a do g przypisz 5 razy j plus 1 modulo 16.\n",
    "            f = G(B, C, D)\n",
    "            g = (5 * j + 1) % 16\n",
    "        elif 32 <= j <= 47:\n",
    "            # Przypisz do f = H(B, C, D), a do g przypisz 3 razy j plus 5 modulo 16.\n",
    "            f = H(B, C, D)\n",
    "            g = (3 * j + 5) % 16\n",
    "        elif 48 <= j <= 63:\n",
    "            # Przypisz do f = I(B, C, D), a do g przypisz 7 razy j modulo 16.\n",
    "            f = I(B, C, D)\n",
    "            g = (7 * j) % 16\n",
    "\n",
    "        # Obliczenia na rejestrach:\n",
    "        # Podstaw do temp wartość D\n",
    "        temp = D\n",
    "        # Podstaw do D wartość C\n",
    "        D = C\n",
    "        # Podstaw do C wartość B\n",
    "        C = B\n",
    "        # Dodaj do B wartość A + f + M[g] + T[j] zrotowaną binarnie w lewo shift_amounts[j] razy\n",
    "        B = (B + left_rotate(A + f + M[g] + T[j], shift_amounts[j])) & 0xFFFFFFFF\n",
    "        # Podstaw do A wartość temp\n",
    "        A = temp\n",
    "\n",
    "    # Dodaj do A wartość AA\n",
    "    A = (A + AA) \n",
    "    # Dodaj do B wartość BB\n",
    "    B = (B + BB) \n",
    "    # Dodaj do C wartość CC\n",
    "    C = (C + CC) \n",
    "    # Dodaj do D wartość DD\n",
    "    D = (D + DD) \n",
    "\n",
    "  # Konwersja końcowa do wartości MD5 (128-bitowy hash):\n",
    "  # Skonkatenuj binarnie A, B, C, D w takiej kolejności. Tzn. 4 najbardziej znaczące bajty to D, a 4 najmniej znaczące to A.\n",
    "  # Przekonwertuj konkatenację do bajtów w little endian, następnie do hex i zwróć. To jest Twój skrót.\n",
    "  digest = sum(val << (32 * i) for i, val in enumerate([A, B, C, D]))\n",
    "  raw = digest.to_bytes(16, byteorder='little')\n",
    "  return '{:032x}'.format(int.from_bytes(raw, byteorder='big'))\n",
    "\n",
    "print(MD5(\"a\"))"
   ]
  },
  {
   "cell_type": "code",
   "execution_count": null,
   "metadata": {},
   "outputs": [
    {
     "name": "stdout",
     "output_type": "stream",
     "text": [
      "92eb5ffee6ae2fec3bd71c777631578f\n"
     ]
    }
   ],
   "source": [
    "# 92eb5ffee6ae2fec3ad71c777531578f\n",
    "print(MD5(\"b\"))"
   ]
  },
  {
   "cell_type": "code",
   "execution_count": null,
   "metadata": {},
   "outputs": [
    {
     "name": "stdout",
     "output_type": "stream",
     "text": [
      "a986d9ee785f7b5fde68bb5b87ee70e0\n"
     ]
    }
   ],
   "source": [
    "# a986d9ee785f7b5fdd68bb5b86ee70e0 \n",
    "print(MD5(\"kot\"))"
   ]
  },
  {
   "cell_type": "code",
   "execution_count": 51,
   "metadata": {},
   "outputs": [
    {
     "name": "stdout",
     "output_type": "stream",
     "text": [
      "e2c3275d0f1a4bc0db360dd225d74a43\n"
     ]
    }
   ],
   "source": [
    "# e2c3275d0e1a4bc0da360dd225d74a43\n",
    "print(MD5(\"ala ma kota\"))"
   ]
  },
  {
   "cell_type": "markdown",
   "metadata": {
    "id": "oWhx_ttrY5l4"
   },
   "source": [
    "## Podsumowanie\n",
    "\n",
    "### Inicjalizacja zmiennych\n",
    "MD5 rozpoczyna pracę od ustawienia czterech zmiennych (A, B, C, D), które są zainicjalizowane określonymi, stałymi wartościami. Te zmienne tworzą 128-bitowy rejestr, w którym przechowywane są aktualne wartości stanu algorytmu. To ustawienie początkowe jest zawsze takie samo i zapewnia początkowy punkt odniesienia dla obliczeń.\n",
    "\n",
    "### Cztery rundy i funkcje mieszające (F, G, H, I)\n",
    "MD5 wykonuje cztery rundy operacji, podczas których stosowane są różne funkcje mieszające (F, G, H, I) oraz operacje przesunięcia i sumowania. Każda runda przechodzi przez dane z wykorzystaniem operacji logicznych, takich jak AND, OR i XOR, aby zmieszać dane w nietrywialny sposób.\n",
    "\n",
    "- Funkcje F, G, H, I stosują różne formy operacji bitowych, aby przemieszać bity w każdym kroku w sposób nieodwracalny. Zastosowanie tych operacji zapewnia, że niewielka zmiana w danych wejściowych prowadzi do znacznej zmiany w końcowym skrócie.\n",
    "- Przesunięcia bitowe i stałe sinusoidalne (T) dodawane w każdej rundzie pomagają wprowadzić dodatkową losowość i zwiększają odporność na kolizje.\n",
    "\n",
    "### Padding (Dopełnienie) i dodanie długości\n",
    "Dane wejściowe są uzupełniane (padding) do długości wielokrotności 512 bitów, co zapewnia, że blok danych ma odpowiedni rozmiar do przetwarzania. Dopełnienie polega na dodaniu bitu 1, a następnie odpowiedniej liczby zer oraz zapisaniu oryginalnej długości wiadomości. Ten krok zapewnia, że nawet jeśli dane wejściowe mają nietypową długość, algorytm może je przetworzyć.\n",
    "\n",
    "### Dzielenie na bloki 512-bitowe i 32-bitowe słowa\n",
    "Uzupełnione dane są dzielone na bloki po 512 bitów, a następnie każdy blok jest dzielony na szesnaście 32-bitowych słów. MD5 przetwarza dane w blokach, co umożliwia stosowanie iteracyjnych operacji bez względu na długość wiadomości. Każdy blok jest przetwarzany osobno, co pozwala na efektywną obróbkę dużych danych.\n",
    "\n",
    "### Aktualizacja rejestrów\n",
    "Po przetworzeniu każdego bloku 512-bitowego wartości rejestrów A, B, C i D są sumowane z ich stanem początkowym, co oznacza, że każdy blok wpływa na kolejne przetwarzane bloki. Ta operacja sprawia, że każda część wiadomości przyczynia się do ostatecznego wyniku.\n",
    "\n",
    "### Finalizacja (Konstrukcja skrótu)\n",
    "Po przetworzeniu wszystkich bloków cztery 32-bitowe wartości (A, B, C, D) są łączone, tworząc 128-bitowy skrót. Wynik jest wyrażany jako liczba szesnastkowa i stanowi końcowy skrót MD5, który identyfikuje dane wejściowe."
   ]
  },
  {
   "cell_type": "markdown",
   "metadata": {
    "id": "TlnABtRFUTgv"
   },
   "source": [
    "Wyniki możesz porównać z [tym](https://www.md5hashgenerator.com/) kalkulatorem."
   ]
  },
  {
   "cell_type": "code",
   "execution_count": null,
   "metadata": {
    "id": "qTc598vuIU2F"
   },
   "outputs": [],
   "source": []
  }
 ],
 "metadata": {
  "colab": {
   "provenance": []
  },
  "kernelspec": {
   "display_name": "Python 3",
   "language": "python",
   "name": "python3"
  },
  "language_info": {
   "codemirror_mode": {
    "name": "ipython",
    "version": 3
   },
   "file_extension": ".py",
   "mimetype": "text/x-python",
   "name": "python",
   "nbconvert_exporter": "python",
   "pygments_lexer": "ipython3",
   "version": "3.12.7"
  }
 },
 "nbformat": 4,
 "nbformat_minor": 0
}
