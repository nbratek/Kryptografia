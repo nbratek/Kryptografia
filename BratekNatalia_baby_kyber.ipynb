{
  "cells": [
    {
      "cell_type": "markdown",
      "id": "4680a3d8",
      "metadata": {
        "id": "4680a3d8"
      },
      "source": [
        "# Mini Projekt - Baby Kyber"
      ]
    },
    {
      "cell_type": "markdown",
      "id": "c444d5d3",
      "metadata": {
        "id": "c444d5d3"
      },
      "source": [
        "## Pierścień $\\mathbb{Z}_{17}[X]/(X^4+1)$"
      ]
    },
    {
      "cell_type": "code",
      "execution_count": 13,
      "id": "1279a018",
      "metadata": {
        "id": "1279a018"
      },
      "outputs": [],
      "source": [
        "# skopiuj pierścień ilorazowy wielomianów z pierwszych zajęć\n",
        "\n",
        "import numpy as np\n",
        "from math import ceil\n",
        "\n",
        "class Zn():\n",
        "    def __init__(self,num,N):\n",
        "        self.N=N\n",
        "        self.num=num%self.N\n",
        "    def __str__(self):\n",
        "        return str(self.num)\n",
        "    def __add__(self,other):\n",
        "        if isinstance(other,Zn):\n",
        "            if self.N==other.N:\n",
        "                return Zn(self.num+other.num,self.N)\n",
        "            else:\n",
        "                raise ValueError('Not compatible mod rings')\n",
        "        elif isinstance(other,int):\n",
        "            return Zn(self.num+other,self.N)\n",
        "        else:\n",
        "            raise TypeError(f\"unsupported operand type(s) for +: 'Zn' and '{type(other).__name__}'\")\n",
        "    def __radd__(self,other):\n",
        "        if isinstance(other,int):\n",
        "            return Zn(self.num+other,self.N)\n",
        "        else:\n",
        "            raise TypeError(f\"unsupported operand type(s) for +: '{type(other).__name__}' and 'Zn'\")\n",
        "    def __mul__(self,other):\n",
        "        if isinstance(other,Zn):\n",
        "            if self.N==other.N:\n",
        "                return Zn(self.num*other.num,self.N)\n",
        "            else:\n",
        "                raise ValueError('Not compatible mod rings')\n",
        "        elif isinstance(other,int):\n",
        "            return Zn(self.num*other,self.N)\n",
        "        else:\n",
        "            raise TypeError(f\"unsupported operand type(s) for *: 'Zn' and '{type(other).__name__}'\")\n",
        "    def __rmul__(self,other):\n",
        "        if isinstance(other,int):\n",
        "            return Zn(self.num*other,self.N)\n",
        "        else:\n",
        "            raise TypeError(f\"unsupported operand type(s) for *: '{type(other).__name__}' and 'Zn'\")\n",
        "    def __sub__(self,other):\n",
        "        if isinstance(other,Zn):\n",
        "            if self.N==other.N:\n",
        "                return Zn(self.num-other.num,self.N)\n",
        "            else:\n",
        "                raise ValueError('Not compatible mod rings')\n",
        "        elif isinstance(other,int):\n",
        "            return Zn(self.num-other,self.N)\n",
        "        else:\n",
        "            raise TypeError(f\"unsupported operand type(s) for -: 'Zn' and '{type(other).__name__}'\")\n",
        "    def __rsub__(self,other):\n",
        "        if isinstance(other,int):\n",
        "            return Zn(other-self.num,self.N)\n",
        "        else:\n",
        "            raise TypeError(f\"unsupported operand type(s) for -: '{type(other).__name__}' and 'Zn'\")\n",
        "    def __pow__(self,other):\n",
        "        if isinstance(other,Zn):\n",
        "            if self.N==other.N:\n",
        "                return Zn(pow(self.num,other.num,self.N),self.N)\n",
        "            else:\n",
        "                raise ValueError('Not compatible mod rings')\n",
        "        elif isinstance(other,int):\n",
        "            return Zn(pow(self.num,other,self.N),self.N)\n",
        "        else:\n",
        "            raise TypeError(f\"unsupported operand type(s) for **: 'Zn' and '{type(other).__name__}'\")\n",
        "    def __rpow__(self,other):\n",
        "        if isinstance(other,int):\n",
        "            return Zn(pow(other,self.num,self.N),self.N)\n",
        "        else:\n",
        "            raise TypeError(f\"unsupported operand type(s) for **: '{type(other).__name__}' and 'Zn'\")\n",
        "\n",
        "    def __repr__(self):\n",
        "        return str(self.num)\n",
        "\n",
        "\n",
        "class Rq():\n",
        "    q = 17\n",
        "    f = np.array([1, 0, 0, 0, 1])\n",
        "    def __init__(self, vec=None, random=False, distribution='uniform', size=4):\n",
        "        if vec is None and random:\n",
        "            if distribution == 'uniform':\n",
        "                vec = np.random.randint(0, self.q, size)\n",
        "            elif distribution == 'gaussian':\n",
        "                vec = np.random.choice([-1, 0, 1], size, p=[1/5, 3/5, 1/5])\n",
        "\n",
        "        if vec is not None:\n",
        "            _, r = np.polydiv(np.array(vec), self.f)\n",
        "            self.vec = r % self.q\n",
        "            if len(self.vec) < size:\n",
        "                self.vec = np.pad(self.vec, (0, size - len(self.vec)), 'constant')\n",
        "\n",
        "    def __repr__(self):\n",
        "        return str(self.vec.tolist())\n",
        "\n",
        "    def __add__(self, other):\n",
        "        return Rq(np.polyadd(self.vec, other.vec).astype(int), random=False)\n",
        "\n",
        "    def __sub__(self, other):\n",
        "        return Rq(np.polysub(self.vec, other.vec).astype(int), random=False)\n",
        "\n",
        "    def __mul__(self, other):\n",
        "        if isinstance(other, Rq):\n",
        "            return Rq(np.polymul(self.vec, other.vec), random=False)\n",
        "        elif isinstance(other, (int, np.integer)):\n",
        "            scaled_vec = np.array(self.vec) * other\n",
        "            _, r = np.polydiv(scaled_vec, self.f)\n",
        "            return Rq(r % self.q, random=False)\n",
        "        else:\n",
        "            raise TypeError(f\"Unsupported operand type(s) for *: 'Rq' and '{type(other).__name__}'\")\n",
        "\n",
        "    __rmul__ = __mul__\n"
      ]
    },
    {
      "cell_type": "code",
      "execution_count": 16,
      "id": "ed602ddb",
      "metadata": {
        "id": "ed602ddb"
      },
      "outputs": [],
      "source": [
        "success = 0"
      ]
    },
    {
      "cell_type": "markdown",
      "id": "ffc5b429",
      "metadata": {
        "id": "ffc5b429"
      },
      "source": [
        "## Baby Kyber\n",
        "\n",
        "Zaimplementuj poniższe elementy kryptosystemu Baby Kyber tak, aby osiągnąć jak największą skuteczność w testach (przy niezerowych błędach). Wymagana minimalna skuteczność to 60%."
      ]
    },
    {
      "cell_type": "code",
      "execution_count": null,
      "id": "25dbaa51",
      "metadata": {
        "id": "25dbaa51"
      },
      "outputs": [],
      "source": []
    },
    {
      "cell_type": "markdown",
      "id": "9d5febcb",
      "metadata": {
        "id": "9d5febcb"
      },
      "source": [
        "### Generowanie klucza\n",
        "\n",
        "Zaimplementuj funkcję `key_gen()` realizującą generowanie klucza w kryptosystemie Baby Kyber. Funkcja ma zwracać `A,t,s`. Przetestuj, czy dla podanych $A,s,e$ otrzymasz poprawny wielomian $t$.\n",
        "\n",
        "$A=\\left[\\begin{matrix}\n",
        "    6x^3+16x^2+16x+11&9x^3+4x^2+6x+3\\\\\n",
        "    5x^3+3x^2+10x+1&6x^3+x^2+9x+15\n",
        "\\end{matrix}\\right]$\n",
        "\n",
        "$\\mathbf{s}=(-x^3-x^2+x,-x^3-x)$\n",
        "\n",
        "$\\mathbf{e}=(x^2,x^2-x)$\n",
        "\n",
        "$\\mathbf{t}=A\\mathbf{s}+\\mathbf{e}:\\ \\ \\mathbf{t}=(16x^3+15x^2+7,10x^3+12x^2+11x+6)$"
      ]
    },
    {
      "cell_type": "code",
      "execution_count": 10,
      "id": "069eefca",
      "metadata": {
        "colab": {
          "base_uri": "https://localhost:8080/"
        },
        "id": "069eefca",
        "outputId": "97a5018c-8c82-4387-e2c9-52a8cea53637"
      },
      "outputs": [
        {
          "output_type": "execute_result",
          "data": {
            "text/plain": [
              "array([[16. 15.  0.  7.], [10. 12. 11.  6.]], dtype=object)"
            ]
          },
          "metadata": {},
          "execution_count": 10
        }
      ],
      "source": [
        "A = np.array([[Rq([6, 16, 16, 11]), Rq([9, 4, 6, 3 ])],[Rq([5, 3,  10, 1 ]), Rq([6, 1, 9, 15])],])\n",
        "s = np.array([Rq([-1, -1, 1, 0]), Rq([-1, 0, -1, 0])])\n",
        "e = np.array([Rq([1, 0, 0]), Rq([1, -1, 0])])\n",
        "t = A @ s + e\n",
        "t"
      ]
    },
    {
      "cell_type": "code",
      "source": [
        "def key_gen():\n",
        "    matrix_size = (2, 2)\n",
        "    A = np.array([[Rq(random=True, distribution='uniform') for _ in range(matrix_size[1])] for _ in range(matrix_size[0])])\n",
        "    s = np.array([Rq(random=True, distribution='gaussian') for _ in range(matrix_size[1])])\n",
        "    e = np.array([Rq(random=True, distribution='gaussian') for _ in range(matrix_size[1])])\n",
        "    t = np.dot(A, s) + e\n",
        "    return A, t, s\n"
      ],
      "metadata": {
        "id": "xB5FyY48k0H8"
      },
      "id": "xB5FyY48k0H8",
      "execution_count": 4,
      "outputs": []
    },
    {
      "cell_type": "markdown",
      "id": "60e43683",
      "metadata": {
        "id": "60e43683"
      },
      "source": [
        "### Szyfrowanie\n",
        "\n",
        "Zaimplementuj funkcję `encrypt(A,t,m)` realizującą szyfrowanie w kryptosystemie Baby Kyber a gdzie wejściowe `m` jest w postaci listy. Funkcja ma zwracać szyfrogram `c`. Przetestuj poprawność działania na poniższych danych.\n",
        "\n",
        "$m=1\\cdot x^3+0\\cdot x^2+1\\cdot x+1=x^3+x+1$\n",
        "\n",
        "$\\mathbf{r}=(-x^3+x^2,x^3+x^2-1)$\n",
        "\n",
        "$\\mathbf{e_1}=(x^2+x,x^2)$\n",
        "\n",
        "$e_2=-x^3-x^2$\n",
        "\n",
        "$\\mathbf{u}=A^T\\mathbf{r}+\\mathbf{e_1}:\\ \\ \\mathbf{u}=(11x^3+11x^2+10x+3,4x^3+4x^2+13x+11)$\n",
        "\n",
        "$v=\\mathbf{t}^T\\mathbf{r}+e_2+\\lfloor\\frac{q}{2}\\rceil m:\\ \\ v=8x^3+6x^2+9x+16$\n",
        "\n",
        "$\\mathbf{c}=(\\mathbf{u},v):\\ \\ \\mathbf{c}=((11x^3+11x^2+10x+3,4x^3+4x^2+13x+11),8x^3+6x^2+9x+16)$"
      ]
    },
    {
      "cell_type": "code",
      "execution_count": 11,
      "id": "902d15cc",
      "metadata": {
        "id": "902d15cc",
        "colab": {
          "base_uri": "https://localhost:8080/"
        },
        "outputId": "6a4d3aaa-a6b9-429f-df9d-1fdeeacc2272"
      },
      "outputs": [
        {
          "output_type": "execute_result",
          "data": {
            "text/plain": [
              "(array([[11. 11. 10.  3.], [ 4.  4. 13. 11.]], dtype=object),\n",
              " [ 8.  6.  9. 16.])"
            ]
          },
          "metadata": {},
          "execution_count": 11
        }
      ],
      "source": [
        "m = Rq([1, 0, 1, 1])\n",
        "r = np.array([Rq([-1, 1, 0, 0]), Rq([1, 1, 0, -1])])\n",
        "e1 = np.array([Rq([1, 1, 0]), Rq([1, 0, 0])])\n",
        "e2 = Rq([-1, -1, 0, 0])\n",
        "u = A.T @ r + e1\n",
        "v = t.T @ r + e2 + ceil(Rq.q / 2) * m\n",
        "c = (u, v)\n",
        "c\n"
      ]
    },
    {
      "cell_type": "code",
      "source": [
        "def encrypt(A, t, m):\n",
        "    m = Rq([1, 0, 1, 1]) if isinstance(m, list) else m\n",
        "    r = np.array([Rq(random=True, distribution='gaussian', size=4) for _ in range(2)])\n",
        "    e1 = np.array([Rq(random=True, distribution='gaussian', size=3) for _ in range(2)])\n",
        "    e2 = Rq(random=True, distribution='gaussian', size=4)\n",
        "    u = A.T @ r + e1\n",
        "    v = t.T @ r + e2 + ceil(Rq.q / 2) * m\n",
        "    c = (u, v)\n",
        "    return c"
      ],
      "metadata": {
        "id": "NG2gQV-Wl3aZ"
      },
      "id": "NG2gQV-Wl3aZ",
      "execution_count": 5,
      "outputs": []
    },
    {
      "cell_type": "markdown",
      "id": "c0b5fd48",
      "metadata": {
        "id": "c0b5fd48"
      },
      "source": [
        "### Deszyfrowanie\n",
        "\n",
        "Zaimplementuj funkcję `decrypt(c,s)` realizującą deszyfrowanie w kryptosystemie Baby Kyber. Funkcja ma zwracać ostateczną odszyfrowaną wiadomość `m_n`. Przetestuj działanie na poniższych danych.\n",
        "\n",
        "$m_n=v-\\mathbf{s}^T\\mathbf{u}:\\ \\ m_n=8x^3+14x^2+8x+6$\n",
        "\n",
        "$m_n=1\\cdot x^3+0\\cdot x^2+1\\cdot x+1$\n"
      ]
    },
    {
      "cell_type": "code",
      "source": [
        "mn = v - s.T @ u\n",
        "mn"
      ],
      "metadata": {
        "colab": {
          "base_uri": "https://localhost:8080/"
        },
        "id": "IzSyg3ZrftVa",
        "outputId": "a59d2c75-f7a2-4b0b-b93c-64b6c1db1adc"
      },
      "id": "IzSyg3ZrftVa",
      "execution_count": 12,
      "outputs": [
        {
          "output_type": "execute_result",
          "data": {
            "text/plain": [
              "[ 8. 14.  8.  6.]"
            ]
          },
          "metadata": {},
          "execution_count": 12
        }
      ]
    },
    {
      "cell_type": "code",
      "execution_count": 6,
      "id": "9d5ea81f",
      "metadata": {
        "id": "9d5ea81f"
      },
      "outputs": [],
      "source": [
        "import numpy as np\n",
        "\n",
        "def decrypt(c, s):\n",
        "    u, v = c\n",
        "    mn = v - s.T @ u\n",
        "    def round_coefficients(vec):\n",
        "        rounded = []\n",
        "        for coeff in vec.vec:\n",
        "            if abs(coeff - 0) < abs(coeff - 9) or abs(coeff - 17) < abs(coeff - 9):\n",
        "                rounded.append(0)\n",
        "            else:\n",
        "                rounded.append(1)\n",
        "        return np.array(rounded)\n",
        "\n",
        "    mn_rounded = round_coefficients(mn)\n",
        "    mn_poly = Rq(mn_rounded, random=False)\n",
        "    return mn_poly"
      ]
    },
    {
      "cell_type": "code",
      "source": [],
      "metadata": {
        "id": "D2bNK9X0ocVU"
      },
      "id": "D2bNK9X0ocVU",
      "execution_count": 14,
      "outputs": []
    },
    {
      "cell_type": "markdown",
      "id": "c3bf409c",
      "metadata": {
        "id": "c3bf409c"
      },
      "source": [
        "### Testy"
      ]
    },
    {
      "cell_type": "code",
      "execution_count": 15,
      "id": "839e9142",
      "metadata": {
        "colab": {
          "base_uri": "https://localhost:8080/"
        },
        "id": "839e9142",
        "outputId": "d27f0812-d1c0-431e-a0fc-2d18d0e2dc56"
      },
      "outputs": [
        {
          "output_type": "stream",
          "name": "stdout",
          "text": [
            "Success rate: 63.0 %\n"
          ]
        }
      ],
      "source": [
        "import secrets as sc\n",
        "\n",
        "for i in range(1000):\n",
        "    output=[]\n",
        "    A,t,s=key_gen()\n",
        "    m=[sc.choice((0,1)) for k in range(4)]\n",
        "    c = encrypt(A,t,m)\n",
        "    m_n = decrypt(c,s)\n",
        "    if m_n == m:\n",
        "        success += 1\n",
        "print(f'Success rate: {success * 100 /1000} %')\n"
      ]
    },
    {
      "cell_type": "code",
      "execution_count": null,
      "id": "d24e1a49",
      "metadata": {
        "id": "d24e1a49"
      },
      "outputs": [],
      "source": []
    }
  ],
  "metadata": {
    "kernelspec": {
      "display_name": "Python 3",
      "language": "python",
      "name": "python3"
    },
    "language_info": {
      "codemirror_mode": {
        "name": "ipython",
        "version": 3
      },
      "file_extension": ".py",
      "mimetype": "text/x-python",
      "name": "python",
      "nbconvert_exporter": "python",
      "pygments_lexer": "ipython3",
      "version": "3.11.7"
    },
    "colab": {
      "provenance": []
    }
  },
  "nbformat": 4,
  "nbformat_minor": 5
}