{
 "cells": [
  {
   "cell_type": "markdown",
   "id": "b0043b1f",
   "metadata": {
    "collapsed": false
   },
   "source": [
    "# Arytmetyka w ciałach Galois\n",
    "\n",
    "## Co to jest ciało Galois?\n",
    "\n",
    "**Ciałem Galois** nazywamy ciało $(G,+,\\cdot)$ o skończonej liczbie elementów. Najprostszym przykładem takiego ciała są $\\mathbb{Z}_p$, gdzie $p$ jest liczbą pierwszą. *Rzędem* ciała skończonego nazywamy liczbę jego elementów. Ciała skończone tego samego rzędu są izomorficzne, tzn. istnieje pomiędzy nimi bijekcja zachowująca działania.\n",
    "\n",
    "Kolejnym ważnym przykładem ciała Galois jest pierścień ilorazowy $\\mathbb{Z}_p[X]/W(X)$, gdzie $p$ jest liczbą pierwszą a $W$ jest nierozkładalnym wielomianem monicznym stopnia $n$ (czyli takim, którego współczynnik przy $X^n$ jest równy 1).\n",
    "\n",
    "## Pierścień $\\mathbb{Z}_n$\n",
    "\n",
    "W ciele $\\mathbb{Z}$ wprowadzamy relację równoważności $\\mod n$ (gdzie $n$ jest ustaloną dodatnią liczbą naturalną):\n",
    "$$a\\equiv_n b\\Leftrightarrow [a]_n=[b]_n$$\n",
    "gdzie $[]_n$ oznacza resztę z dzielenia przez $n$.\n",
    "\n",
    "Arytmetyka $\\mod n$:$$a+b=[a+b]_n$$ $$ab=[ab]_n$$"
   ]
  },
  {
   "cell_type": "markdown",
   "id": "d91341b6",
   "metadata": {
    "collapsed": false
   },
   "source": [
    "**Pierwiastkiem pierwotnym** $\\mod n$ nazywamy liczbę, której potęgi $\\mod n$ dają wszystkie reszty z dzielenia przez $n$, które są względnie pierwsze z $n$. Pierwiastek pierwotny istnieje tylko dla następujących $n$:\n",
    "- $n=p^k$, gdzie $p$ jest liczbą pierwszą różną od 2\n",
    "- $n=2p^k$, gdzie $p$ - j.w.\n",
    "- $n=2$ lub $n=4$\n",
    "\n",
    "Przykładowo, wszystkie reszty z dzielenia przez 5 względnie pierwsze z 5 to 4,3,2,1 (zero odpada - nie jest względnie pierwsze). Kolejne potęgi $2^k \\mod 5$ to\n",
    "- $2^1 \\mod 5=2$\n",
    "- $2^2 \\mod 5=4$\n",
    "- $2^3 \\mod 5=3$\n",
    "- $2^4 \\mod 5=1$\n",
    "\n",
    "czyli 2 jest pierwiastkiem pierwotnym $\\mod 5$."
   ]
  },
  {
   "cell_type": "markdown",
   "id": "f796ef8e",
   "metadata": {
    "collapsed": false
   },
   "source": [
    "### Sage math:\n",
    "Konstruujemy pierścień `R=Integers(n)` lub `R=IntegerModRing(n)`, gdzie za `n` podajemy ustaloną liczbę naturalną. Jeżeli chcemy poznać postać liczby `x` w tym pierścieniu, to piszemy `R(x)`. Inną opcją jest funkcja `mod(x,n)`"
   ]
  },
  {
   "cell_type": "code",
   "execution_count": 1,
   "id": "b4db6339",
   "metadata": {
    "collapsed": false
   },
   "outputs": [
    {
     "name": "stdout",
     "output_type": "stream",
     "text": [
      "2\n",
      "<class 'sage.rings.finite_rings.integer_mod.IntegerMod_int'>\n"
     ]
    }
   ],
   "source": [
    "R=Integers(3)\n",
    "x=R(5)\n",
    "print(x)\n",
    "print(type(x))"
   ]
  },
  {
   "cell_type": "code",
   "execution_count": 2,
   "id": "d437e6b3",
   "metadata": {
    "collapsed": false
   },
   "outputs": [
    {
     "data": {
      "text/plain": [
       "2"
      ]
     },
     "execution_count": 2,
     "metadata": {},
     "output_type": "execute_result"
    }
   ],
   "source": [
    "4*x"
   ]
  },
  {
   "cell_type": "code",
   "execution_count": 3,
   "id": "f945f045",
   "metadata": {
    "collapsed": false
   },
   "outputs": [
    {
     "data": {
      "text/plain": [
       "1"
      ]
     },
     "execution_count": 3,
     "metadata": {},
     "output_type": "execute_result"
    }
   ],
   "source": [
    "x+2"
   ]
  },
  {
   "cell_type": "code",
   "execution_count": 4,
   "id": "8ad9b5d7",
   "metadata": {
    "collapsed": false
   },
   "outputs": [
    {
     "data": {
      "text/plain": [
       "1"
      ]
     },
     "execution_count": 4,
     "metadata": {},
     "output_type": "execute_result"
    }
   ],
   "source": [
    "x^10"
   ]
  },
  {
   "cell_type": "code",
   "execution_count": 5,
   "id": "86859c0a",
   "metadata": {
    "collapsed": false
   },
   "outputs": [
    {
     "data": {
      "text/plain": [
       "0"
      ]
     },
     "execution_count": 5,
     "metadata": {},
     "output_type": "execute_result"
    }
   ],
   "source": [
    "R(2+7)"
   ]
  },
  {
   "cell_type": "code",
   "execution_count": 6,
   "id": "84417cfd",
   "metadata": {
    "collapsed": false
   },
   "outputs": [
    {
     "data": {
      "text/plain": [
       "2"
      ]
     },
     "execution_count": 6,
     "metadata": {},
     "output_type": "execute_result"
    }
   ],
   "source": [
    "R(2*4)"
   ]
  },
  {
   "cell_type": "code",
   "execution_count": 7,
   "id": "259e5571",
   "metadata": {
    "collapsed": false
   },
   "outputs": [
    {
     "name": "stdout",
     "output_type": "stream",
     "text": [
      "0\n",
      "<class 'sage.rings.finite_rings.integer_mod.IntegerMod_int'>\n"
     ]
    }
   ],
   "source": [
    "RR=IntegerModRing(5)\n",
    "x=RR(10)\n",
    "print(x)\n",
    "print(type(x))\n"
   ]
  },
  {
   "cell_type": "code",
   "execution_count": 8,
   "id": "7cadde47",
   "metadata": {
    "collapsed": false
   },
   "outputs": [
    {
     "name": "stdout",
     "output_type": "stream",
     "text": [
      "2\n",
      "<class 'sage.rings.finite_rings.integer_mod.IntegerMod_int'>\n"
     ]
    }
   ],
   "source": [
    "x=mod(10,4)\n",
    "print(x)\n",
    "print(type(x))"
   ]
  },
  {
   "cell_type": "markdown",
   "id": "f287082e",
   "metadata": {
    "collapsed": false
   },
   "source": [
    "### Dzielenie w arytmetyce modularnej\n",
    "\n",
    "W momencie, gdy $p$ jest liczbą pierwszą, pierścień $\\mathbb{Z}_p$ jest czymś więcej - jest ciałem, czyli każdy niezerowy element posiada *element odwrotny*, a zatem możemy zdefiniować operację dzielenia:\n",
    "$$\n",
    "a/b=a*b^{-1}\n",
    "$$\n",
    "gdzie $b^{-1}$ oznacza właśnie element odwrotny do $b$, czyli taki, że $b^{-1}*b=b*b^{-1}=1$.\n",
    "\n",
    "W przypadku, gdy podstawą arytmetyki modularnej nie jest liczba pierwsza, to nie mamy do czynienia z ciałem to nie wszystkie elementy będą odwracalne (tzn. nie każde dzielenie jest wykonalne)."
   ]
  },
  {
   "cell_type": "code",
   "execution_count": 9,
   "id": "9f50d95e",
   "metadata": {
    "collapsed": false
   },
   "outputs": [
    {
     "data": {
      "text/plain": [
       "3"
      ]
     },
     "execution_count": 9,
     "metadata": {},
     "output_type": "execute_result"
    }
   ],
   "source": [
    "x=mod(4,5) #podstawa 5 - liczba pierwsza\n",
    "x/3        #liczbą odwrotną do 3 jest 2, bo 3*2 mod 5 = 1, czyli 4/3 mod 5 = 4*2 mod 5 = 3"
   ]
  },
  {
   "cell_type": "code",
   "execution_count": null,
   "metadata": {},
   "outputs": [],
   "source": [
    "y=mod(3,4) #podstawa 4 - nie jest liczbą pierwszą\n",
    "y/2        #każda wielokrotność 2 jest liczbą parzystą, zatem nigdy jej reszta z dzielenia przez 4 nie da 1\n",
    "           #zatem 2 nie jest odwracalne"
   ]
  },
  {
   "cell_type": "markdown",
   "id": "5b8ac8e6",
   "metadata": {
    "collapsed": false
   },
   "source": [
    "Pierwiastki pierwotne w Sage znajdujemy funkcją `primitive_root(n)`."
   ]
  },
  {
   "cell_type": "code",
   "execution_count": 11,
   "id": "5c1b2de3",
   "metadata": {
    "collapsed": false
   },
   "outputs": [
    {
     "name": "stdout",
     "output_type": "stream",
     "text": [
      "2\n",
      "<class 'sage.rings.integer.Integer'>\n"
     ]
    }
   ],
   "source": [
    "x=primitive_root(1907)\n",
    "print(x)\n",
    "print(type(x))"
   ]
  },
  {
   "cell_type": "code",
   "execution_count": null,
   "metadata": {},
   "outputs": [],
   "source": [
    "primitive_root(15) #nie istnieją pierwiastki pierwotne mod 15"
   ]
  },
  {
   "cell_type": "markdown",
   "id": "76290854",
   "metadata": {
    "collapsed": false
   },
   "source": [
    "### python:"
   ]
  },
  {
   "cell_type": "markdown",
   "id": "d1feb566",
   "metadata": {
    "collapsed": false
   },
   "source": [
    "W pythonie nie poszalejemy - operator `%` zwraca resztę z dzielenia. I to tyle. Funkcje do arytmetyki mod $n$ można znaleźć w module SymPy."
   ]
  },
  {
   "cell_type": "code",
   "execution_count": 13,
   "id": "627d5866",
   "metadata": {
    "collapsed": false
   },
   "outputs": [
    {
     "name": "stdout",
     "output_type": "stream",
     "text": [
      "1\n",
      "<class 'sage.rings.integer.Integer'>\n"
     ]
    }
   ],
   "source": [
    "x=5%2\n",
    "print(x)\n",
    "print(type(x))"
   ]
  },
  {
   "cell_type": "markdown",
   "id": "4ef37075",
   "metadata": {
    "collapsed": false
   },
   "source": [
    "## Zadanie 1.\n",
    "\n",
    "Zaimplementować w Pythonie klasę `Zn(N)`, czyli pierścień reszt z dzielenia przez `N`. Przeładować operatory `+`, `-`, `*`, `**` tak, aby na obiektach klasy wykonywały działania mod N, działania dodawania i mnożenia przez `int` oraz metodę `__repr__`."
   ]
  },
  {
   "cell_type": "code",
   "execution_count": 58,
   "id": "f4f0d383",
   "metadata": {
    "collapsed": false
   },
   "outputs": [],
   "source": [
    "class Zn:\n",
    "    def __init__(self, value, N):\n",
    "        self.N = N\n",
    "        self.value = value % N\n",
    "\n",
    "    def __repr__(self):\n",
    "        return f\"Zn({self.value}, {self.N})\"\n",
    "\n",
    "    def __str__(self):\n",
    "        return str(self.value)\n",
    "\n",
    "    def __int__(self):\n",
    "        return self.value  \n",
    "\n",
    "    def __add__(self, other):\n",
    "        try:\n",
    "            return Zn(self.value + int(other), self.N)\n",
    "        except (TypeError, ValueError):\n",
    "            raise TypeError(\"Można dodawać tylko obiekty kompatybilne z int\")\n",
    "\n",
    "    def __radd__(self, other):\n",
    "        return self.__add__(other)\n",
    "\n",
    "    def __sub__(self, other):\n",
    "        try:\n",
    "            return Zn(self.value - int(other), self.N)\n",
    "        except (TypeError, ValueError):\n",
    "            raise TypeError(\"Można odejmować tylko obiekty kompatybilne z int\")\n",
    "\n",
    "    def __rsub__(self, other):\n",
    "        try:\n",
    "            return Zn(int(other) - self.value, self.N)\n",
    "        except (TypeError, ValueError):\n",
    "            raise TypeError(\"Można odejmować tylko obiekty kompatybilne z int\")\n",
    "\n",
    "    def __mul__(self, other):\n",
    "        try:\n",
    "            return Zn(self.value * int(other), self.N)\n",
    "        except (TypeError, ValueError):\n",
    "            raise TypeError(\"Można mnożyć tylko obiekty kompatybilne z int\")\n",
    "\n",
    "    def __rmul__(self, other):\n",
    "        return self.__mul__(other)\n",
    "\n",
    "    def __pow__(self, exp):\n",
    "        try:\n",
    "            exp = int(exp)  \n",
    "            return Zn(pow(self.value, exp, self.N), self.N)\n",
    "        except (TypeError, ValueError):\n",
    "            raise TypeError(\"Wykładnik musi być int lub obiektem kompatybilnym z int\")\n"
   ]
  },
  {
   "cell_type": "code",
   "execution_count": 59,
   "id": "f9dece7e",
   "metadata": {
    "collapsed": false
   },
   "outputs": [
    {
     "name": "stdout",
     "output_type": "stream",
     "text": [
      "2 3 0\n",
      "2 6 1 1 1 5 5\n"
     ]
    }
   ],
   "source": [
    "#TESTY\n",
    "\n",
    "x=Zn(2,7)\n",
    "y=Zn(10,7)\n",
    "z=Zn(14,7)\n",
    "\n",
    "print(x,y,z)\n",
    "#2 3 0\n",
    "print(x+z, x*y, x**y,6+x,x+6,4*y,y*4)\n",
    "#2 6 1 1 1 5 5"
   ]
  },
  {
   "cell_type": "markdown",
   "id": "0750ef60",
   "metadata": {
    "collapsed": false
   },
   "source": [
    "## Pierścienie ilorazowe wielomianów\n",
    "\n",
    "Aby utworzyć pierścień ilorazowy $\\mathbb{Z}_n[X]/W(X)$ w Sage musimy najpierw utworzyć $\\mathbb{Z}_n[X]$, czyli pierścień wielomianów o współczynnikach z $\\mathbb{Z}_n$:\n",
    "\n",
    "`R=PolynomialRing(Integers(n),'X')`\n",
    "\n",
    "Jeżeli w dalszej części kodu mamy zamiar korzystać z wielomianów z tego pierścienia, to dobrze jest rozdzielić nazewnictwo zmiennych niezależnych\n",
    "\n",
    "`X=R.gen()`\n",
    "\n",
    "Teraz każdy wielomian zmiennej `X` będzie przez Sage traktowany jako element pierścienia `R`."
   ]
  },
  {
   "cell_type": "code",
   "execution_count": 14,
   "id": "2a8a7cb1",
   "metadata": {
    "collapsed": false
   },
   "outputs": [
    {
     "data": {
      "text/plain": [
       "X^6 + 2*X^4 + 2*X^2 + 1"
      ]
     },
     "execution_count": 14,
     "metadata": {},
     "output_type": "execute_result"
    }
   ],
   "source": [
    "R=PolynomialRing(Integers(5),'X')\n",
    "X=R.gen()\n",
    "\n",
    "X^6-13*X^4+12*X^2-10*X+6"
   ]
  },
  {
   "cell_type": "markdown",
   "id": "f606fdb6",
   "metadata": {
    "collapsed": false
   },
   "source": [
    "Pierścień ilorazowy tworzymy metodą `R.quotient(W,'x')`, gdzie `W` jest dowolnym wielomianem. Podobnie jak poprzednio dobrze jest od razu zdefiniować `x` jako zmienną niezależną wielomianów z nowego pierścienia."
   ]
  },
  {
   "cell_type": "code",
   "execution_count": 15,
   "id": "c276fa4e",
   "metadata": {
    "collapsed": false
   },
   "outputs": [
    {
     "data": {
      "text/plain": [
       "x^2 + 4"
      ]
     },
     "execution_count": 15,
     "metadata": {},
     "output_type": "execute_result"
    }
   ],
   "source": [
    "Rq=R.quotient(X^4+1,'x')\n",
    "x=Rq.gen()\n",
    "\n",
    "x^6-13*x^4+12*x^2-10*x+6"
   ]
  },
  {
   "cell_type": "code",
   "execution_count": 16,
   "id": "04a7edfb",
   "metadata": {
    "collapsed": false
   },
   "outputs": [
    {
     "data": {
      "text/plain": [
       "4*x^3 + 2*x^2 + 2*x + 1"
      ]
     },
     "execution_count": 16,
     "metadata": {},
     "output_type": "execute_result"
    }
   ],
   "source": [
    "w1=7*x^6+14\n",
    "w2=24*x^4-5*x^2-7*x+13\n",
    "\n",
    "expand(w1*w2)"
   ]
  },
  {
   "cell_type": "markdown",
   "id": "c48d18d8",
   "metadata": {
    "collapsed": false
   },
   "source": [
    "## Zadanie 2\n",
    "\n",
    "Mając klasę `Zn(N)` zaimplementować w Pythonie klasę `ZnW(N,W)`, czyli pierścień ilorazowy $\\mathbb{Z}_n[X]/W(X)$ z działaniami dodawania i mnożenia wielomianów."
   ]
  },
  {
   "cell_type": "markdown",
   "id": "592a27cc",
   "metadata": {
    "collapsed": false
   },
   "source": [
    "Dane testowe:"
   ]
  },
  {
   "cell_type": "markdown",
   "id": "4b263dcf",
   "metadata": {
    "collapsed": false
   },
   "source": [
    "$$w1=7x^6+14x^3$$\n",
    "$$w2=24x^4-5x^2-7x+13$$\n",
    "$$w3=23x^5-3x^4+x^3+35x^2+4$$"
   ]
  },
  {
   "cell_type": "markdown",
   "id": "da891d99",
   "metadata": {
    "collapsed": false
   },
   "source": [
    "Reprezentacja w $\\mathbb{Z}_{17}[X]/(X^4+1)$ (tzn. dla $n=17$ i $W(X)=X^4+1$):"
   ]
  },
  {
   "cell_type": "markdown",
   "id": "6fd2164a",
   "metadata": {
    "collapsed": false
   },
   "source": [
    "$$w1=14x^3 + 10x^2$$\n",
    "$$w2=12x^2 + 10x + 6$$\n",
    "$$w3=x^3 + x^2 + 11x + 7$$"
   ]
  },
  {
   "cell_type": "markdown",
   "id": "0c24611c",
   "metadata": {
    "collapsed": false
   },
   "source": [
    "Arytmetyka:"
   ]
  },
  {
   "cell_type": "markdown",
   "id": "25cfaac4",
   "metadata": {
    "collapsed": false
   },
   "source": [
    "$$w1+w2=14x^3 + 5x^2 + 10x + 6$$\n",
    "$$w1*w2=14x^3 + 9x^2 + 2x + 12$$\n",
    "$$6*w3=6x^3 + 6x^2 + 15x + 8$$\n",
    "\n",
    "\n",
    "\n",
    "\n"
   ]
  },
  {
   "cell_type": "code",
   "execution_count": 77,
   "id": "d24cb816",
   "metadata": {
    "collapsed": false
   },
   "outputs": [],
   "source": [
    "class ZnW:\n",
    "    def __init__(self, coefficients, N, W):\n",
    "        self.N = N\n",
    "        self.W = [Zn(c, N) for c in W]\n",
    "        self.coefficients = [Zn(c, N) for c in coefficients]\n",
    "        self._reduce()\n",
    "\n",
    "    def _reduce(self):\n",
    "        while len(self.coefficients) >= len(self.W):\n",
    "            last_coeff = self.coefficients[-1]\n",
    "            degree_diff = len(self.coefficients) - len(self.W)\n",
    "            for i in range(len(self.W)):\n",
    "                self.coefficients[degree_diff + i] -= last_coeff * self.W[i]\n",
    "            self.coefficients.pop()\n",
    "        self.coefficients = [c for c in self.coefficients if c != Zn(0, self.N)]\n",
    "\n",
    "    def __add__(self, other):\n",
    "        max_len = max(len(self.coefficients), len(other.coefficients))\n",
    "        result = [Zn(0, self.N)] * max_len\n",
    "        for i in range(len(self.coefficients)):\n",
    "            result[i] += self.coefficients[i]\n",
    "        for i in range(len(other.coefficients)):\n",
    "            result[i] += other.coefficients[i]\n",
    "        return ZnW([int(c) for c in result], self.N, [int(c) for c in self.W])\n",
    "\n",
    "\n",
    "    def __mul__(self, other):\n",
    "        if isinstance(other, Zn):\n",
    "            result = [c * other for c in self.coefficients]\n",
    "            return ZnW([int(c) for c in result], self.N, [int(c) for c in self.W])\n",
    "        elif isinstance(other, ZnW):\n",
    "            result_degree = len(self.coefficients) + len(other.coefficients) - 1\n",
    "            result = [Zn(0, self.N)] * result_degree\n",
    "            for i, c1 in enumerate(self.coefficients):\n",
    "                for j, c2 in enumerate(other.coefficients):\n",
    "                    result[i + j] += c1 * c2\n",
    "            return ZnW([int(c) for c in result], self.N, [int(c) for c in self.W])\n",
    "\n",
    "    def __rmul__(self, other):\n",
    "        return self.__mul__(other)\n",
    "\n",
    "    def __str__(self):\n",
    "        terms = []\n",
    "        for i, coeff in enumerate(self.coefficients):\n",
    "            if int(coeff) != 0:\n",
    "                term = f\"{int(coeff)}\"\n",
    "                if i == 1:\n",
    "                    term += \"x\"\n",
    "                elif i > 1:\n",
    "                    term += f\"x^{i}\"\n",
    "                terms.append(term)\n",
    "        return \" + \".join(terms[::-1]) if terms else \"0\""
   ]
  },
  {
   "cell_type": "code",
   "execution_count": 78,
   "id": "19fdb77d",
   "metadata": {
    "collapsed": false
   },
   "outputs": [
    {
     "name": "stdout",
     "output_type": "stream",
     "text": [
      "w1: 14x^3 + 10x^2\n",
      "w2: 12x^2 + 10x + 6\n",
      "w3: 1x^3 + 1x^2 + 11x + 7\n",
      "w1 + w2: 14x^3 + 5x^2 + 10x + 6\n",
      "w1 * w2: 14x^3 + 9x^2 + 2x + 12\n",
      "6 * w3: 6x^3 + 6x^2 + 15x + 8\n"
     ]
    }
   ],
   "source": [
    "N = 17\n",
    "W = [1, 0, 0, 0, 1]  \n",
    "w1 = ZnW([0, 0, 10, 14], N, W)  \n",
    "w2 = ZnW([6, 10, 12], N, W)     \n",
    "w3 = ZnW([7, 11, 1, 1], N, W)   \n",
    "print(\"w1:\", w1)\n",
    "print(\"w2:\", w2)\n",
    "print(\"w3:\", w3)\n",
    "\n",
    "print(\"w1 + w2:\", w1 + w2)\n",
    "print(\"w1 * w2:\", w1 * w2)\n",
    "print(\"6 * w3:\", ZnW([6], N, W) * w3)\n"
   ]
  },
  {
   "cell_type": "code",
   "execution_count": null,
   "metadata": {},
   "outputs": [],
   "source": []
  }
 ],
 "metadata": {
  "kernelspec": {
   "display_name": "Python 3",
   "language": "python",
   "name": "python3"
  },
  "language_info": {
   "codemirror_mode": {
    "name": "ipython",
    "version": 3
   },
   "file_extension": ".py",
   "mimetype": "text/x-python",
   "name": "python",
   "nbconvert_exporter": "python",
   "pygments_lexer": "ipython3",
   "version": "3.12.0"
  }
 },
 "nbformat": 4,
 "nbformat_minor": 4
}
